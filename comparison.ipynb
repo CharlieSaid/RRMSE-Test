{
 "cells": [
  {
   "cell_type": "code",
   "execution_count": 28,
   "metadata": {},
   "outputs": [],
   "source": [
    "# Imports\n",
    "import pandas as pd\n",
    "import numpy as np"
   ]
  },
  {
   "cell_type": "code",
   "execution_count": 29,
   "metadata": {},
   "outputs": [],
   "source": [
    "# Define the error calculations\n",
    "\n",
    "# Good old RMSE\n",
    "def rmse(control_col,test_col):\n",
    "    error_col = control_col - test_col\n",
    "    squared_err_col = error_col ** 2\n",
    "    mse = np.mean(squared_err_col)\n",
    "    rmse = np.sqrt(mse)\n",
    "    return rmse\n",
    "\n",
    "# Method 1: Normalization by range\n",
    "# https://en.wikipedia.org/wiki/Root_mean_square_deviation#cite_note-4\n",
    "# https://cirpwiki.info/wiki/Statistics#Normalization\n",
    "def rrmse_range_normalization(control_col,test_col):\n",
    "    error_col = control_col - test_col\n",
    "    squared_err_col = error_col ** 2\n",
    "    mse = np.mean(squared_err_col)\n",
    "    rmse = np.sqrt(mse)\n",
    "    rrmse = rmse/(np.max(control_col)-np.min(control_col))\n",
    "    return rrmse\n",
    "\n",
    "# Method 2: Normalization by mean\n",
    "# Bad if the mean is 0.\n",
    "# https://search.r-project.org/CRAN/refmans/ehaGoF/html/gofRRMSE.html\n",
    "# https://en.wikipedia.org/wiki/Root_mean_square_deviation#cite_note-4\n",
    "# https://cirpwiki.info/wiki/Statistics#Normalization\n",
    "def rrmse_mean_normalization(control_col,test_col):\n",
    "    error_col = control_col - test_col\n",
    "    squared_err_col = error_col ** 2\n",
    "    mse = np.mean(squared_err_col)\n",
    "    rmse = np.sqrt(mse)\n",
    "    rrmse = rmse/np.mean(control_col)\n",
    "    return rrmse\n",
    "\n",
    "# Method 3: Normalization by stdev\n",
    "# https://stackoverflow.com/a/45160031\n",
    "def rrmse_stdev_normalization(control_col,test_col):\n",
    "    error_col = control_col - test_col\n",
    "    squared_err_col = error_col ** 2\n",
    "    mse = np.mean(squared_err_col)\n",
    "    rmse = np.sqrt(mse)\n",
    "    rrmse = rmse/np.std(control_col) \n",
    "    return rrmse\n",
    "\n",
    "# Method 4: Normalization by mean * n\n",
    "# https://stackoverflow.com/a/41749834\n",
    "def rrmse_mean_x_n_normalization(control_col,test_col):\n",
    "    error_col = control_col - test_col\n",
    "    squared_err_col = error_col ** 2\n",
    "    mse = np.mean(squared_err_col)\n",
    "    rmse = np.sqrt(mse)\n",
    "    rrmse = rmse/(np.mean(control_col)*len(control_col))\n",
    "    return rrmse\n",
    "\n",
    "# Method 5: Normalization by max\n",
    "# https://stackoverflow.com/a/41749834\n",
    "def rrmse_max_normalization(control_col,test_col):\n",
    "    error_col = control_col - test_col\n",
    "    squared_err_col = error_col ** 2\n",
    "    mse = np.mean(squared_err_col)\n",
    "    rmse = np.sqrt(mse)\n",
    "    rrmse = rmse/np.max(control_col)\n",
    "    return rrmse\n",
    "\n",
    "# Method 6: Normalization by interquartile range\n",
    "# https://www.analyticsvidhya.com/blog/2021/10/evaluation-metric-for-regression-models/#:~:text=Relative%20Root%20Mean%20Square%20Error,to%20compare%20different%20measurement%20techniques\n",
    "def rrmse_interquartile_normalization(control_col,test_col):\n",
    "    error_col = control_col - test_col\n",
    "    squared_err_col = error_col ** 2\n",
    "    mse = np.mean(squared_err_col)\n",
    "    rmse = np.sqrt(mse)\n",
    "    iqr = np.percentile(control_col,75)-np.percentile(control_col,25)\n",
    "    rrmse = rmse/iqr\n",
    "    return rrmse\n",
    "\n",
    "# Method 7: Relative RMSE (Normalization by sum)\n",
    "# sub-10 is ideal, 30+ is bad.\n",
    "# https://stats.stackexchange.com/questions/260615/what-is-the-difference-between-rrmse-and-rmsre/\n",
    "# https://www.analyticsvidhya.com/blog/2021/10/evaluation-metric-for-regression-models/#:~:text=Relative%20Root%20Mean%20Square%20Error,to%20compare%20different%20measurement%20techniques\n",
    "# Despotovic, M., Nedic, V., Despotovic, D., & Cvetanovic, S., \n",
    "# Evaluation of empirical models for predicting monthly mean horizontal diffuse solar radiation, Renewable and Sustainable Energy Reviews, \n",
    "# Volume 56, April 2016, Pages 246-260, ISSN 1364-0321, http://dx.doi.org/10.1016/j.rser.2015.11.058.\n",
    "def rrmse(control_col,test_col):\n",
    "    error_col = control_col - test_col\n",
    "    squared_err_col = error_col ** 2\n",
    "    mse = np.mean(squared_err_col)\n",
    "    rmse = np.sqrt(mse)\n",
    "    rrmse = rmse/np.sum(control_col)\n",
    "    return rrmse\n",
    "\n",
    "# Method 8: RMSRE (Root Mean Squared Relative Error)\n",
    "# https://stats.stackexchange.com/questions/260615/what-is-the-difference-between-rrmse-and-rmsre/\n",
    "def rmsre(control_col,test_col):\n",
    "    error_col = control_col - test_col\n",
    "    rel_err_col = error_col/control_col\n",
    "    squared_err_col = rel_err_col ** 2\n",
    "    msre = np.mean(squared_err_col)\n",
    "    rmsre = np.sqrt(msre)\n",
    "    return rmsre\n",
    "\n",
    "# Method 9: Normalization by null model\n",
    "# https://www.youtube.com/watch?v=y1i1TwTvIAI&t=239s\n",
    "def rrmse_null_model(control_col,test_col):\n",
    "    error_col = control_col - test_col\n",
    "    squared_err_col = error_col ** 2\n",
    "    mse = np.mean(squared_err_col)\n",
    "    rmse = np.sqrt(mse)\n",
    "    d = np.mean((control_col-(np.mean(control_col)))**2)\n",
    "    rrmse = rmse/np.sqrt(d)\n",
    "    return rrmse"
   ]
  },
  {
   "cell_type": "code",
   "execution_count": 30,
   "metadata": {},
   "outputs": [
    {
     "data": {
      "text/html": [
       "<div>\n",
       "<style scoped>\n",
       "    .dataframe tbody tr th:only-of-type {\n",
       "        vertical-align: middle;\n",
       "    }\n",
       "\n",
       "    .dataframe tbody tr th {\n",
       "        vertical-align: top;\n",
       "    }\n",
       "\n",
       "    .dataframe thead th {\n",
       "        text-align: right;\n",
       "    }\n",
       "</style>\n",
       "<table border=\"1\" class=\"dataframe\">\n",
       "  <thead>\n",
       "    <tr style=\"text-align: right;\">\n",
       "      <th></th>\n",
       "      <th>Control</th>\n",
       "      <th>Near_Control</th>\n",
       "      <th>Null_Model</th>\n",
       "      <th>Half_Control</th>\n",
       "      <th>Terrible</th>\n",
       "    </tr>\n",
       "  </thead>\n",
       "  <tbody>\n",
       "    <tr>\n",
       "      <th>0</th>\n",
       "      <td>14.780489</td>\n",
       "      <td>12.235867</td>\n",
       "      <td>40.78513</td>\n",
       "      <td>27.782810</td>\n",
       "      <td>9.704566</td>\n",
       "    </tr>\n",
       "    <tr>\n",
       "      <th>1</th>\n",
       "      <td>99.151961</td>\n",
       "      <td>96.607339</td>\n",
       "      <td>40.78513</td>\n",
       "      <td>69.968546</td>\n",
       "      <td>5.540631</td>\n",
       "    </tr>\n",
       "    <tr>\n",
       "      <th>2</th>\n",
       "      <td>22.763102</td>\n",
       "      <td>20.218480</td>\n",
       "      <td>40.78513</td>\n",
       "      <td>31.774116</td>\n",
       "      <td>5.147504</td>\n",
       "    </tr>\n",
       "    <tr>\n",
       "      <th>3</th>\n",
       "      <td>18.612305</td>\n",
       "      <td>16.067684</td>\n",
       "      <td>40.78513</td>\n",
       "      <td>29.698718</td>\n",
       "      <td>6.653462</td>\n",
       "    </tr>\n",
       "    <tr>\n",
       "      <th>4</th>\n",
       "      <td>20.312583</td>\n",
       "      <td>17.767961</td>\n",
       "      <td>40.78513</td>\n",
       "      <td>30.548856</td>\n",
       "      <td>8.081488</td>\n",
       "    </tr>\n",
       "    <tr>\n",
       "      <th>5</th>\n",
       "      <td>20.008990</td>\n",
       "      <td>17.464368</td>\n",
       "      <td>40.78513</td>\n",
       "      <td>30.397060</td>\n",
       "      <td>3.863894</td>\n",
       "    </tr>\n",
       "    <tr>\n",
       "      <th>6</th>\n",
       "      <td>64.658573</td>\n",
       "      <td>62.113951</td>\n",
       "      <td>40.78513</td>\n",
       "      <td>52.721851</td>\n",
       "      <td>4.544888</td>\n",
       "    </tr>\n",
       "    <tr>\n",
       "      <th>7</th>\n",
       "      <td>67.237304</td>\n",
       "      <td>64.692683</td>\n",
       "      <td>40.78513</td>\n",
       "      <td>54.011217</td>\n",
       "      <td>6.035760</td>\n",
       "    </tr>\n",
       "    <tr>\n",
       "      <th>8</th>\n",
       "      <td>22.732594</td>\n",
       "      <td>20.187972</td>\n",
       "      <td>40.78513</td>\n",
       "      <td>31.758862</td>\n",
       "      <td>6.720178</td>\n",
       "    </tr>\n",
       "    <tr>\n",
       "      <th>9</th>\n",
       "      <td>57.593399</td>\n",
       "      <td>55.048777</td>\n",
       "      <td>40.78513</td>\n",
       "      <td>49.189264</td>\n",
       "      <td>7.106841</td>\n",
       "    </tr>\n",
       "  </tbody>\n",
       "</table>\n",
       "</div>"
      ],
      "text/plain": [
       "     Control  Near_Control  Null_Model  Half_Control  Terrible\n",
       "0  14.780489     12.235867    40.78513     27.782810  9.704566\n",
       "1  99.151961     96.607339    40.78513     69.968546  5.540631\n",
       "2  22.763102     20.218480    40.78513     31.774116  5.147504\n",
       "3  18.612305     16.067684    40.78513     29.698718  6.653462\n",
       "4  20.312583     17.767961    40.78513     30.548856  8.081488\n",
       "5  20.008990     17.464368    40.78513     30.397060  3.863894\n",
       "6  64.658573     62.113951    40.78513     52.721851  4.544888\n",
       "7  67.237304     64.692683    40.78513     54.011217  6.035760\n",
       "8  22.732594     20.187972    40.78513     31.758862  6.720178\n",
       "9  57.593399     55.048777    40.78513     49.189264  7.106841"
      ]
     },
     "execution_count": 30,
     "metadata": {},
     "output_type": "execute_result"
    }
   ],
   "source": [
    "# Construct the dataframe for testing\n",
    "\n",
    "num_rows = 10\n",
    "df = pd.DataFrame(np.random.random(size=(num_rows,1))*100,columns=['Control'])\n",
    "df['Near_Control'] = df['Control'] - np.random.random()*5\n",
    "df['Null_Model'] = np.mean(df['Control'])\n",
    "df['Half_Control'] = (df['Control'] + df['Null_Model'])/2\n",
    "df['Terrible'] = np.random.random(size=(num_rows,1)) * 10\n",
    "df"
   ]
  },
  {
   "cell_type": "code",
   "execution_count": 31,
   "metadata": {},
   "outputs": [
    {
     "data": {
      "text/html": [
       "<div>\n",
       "<style scoped>\n",
       "    .dataframe tbody tr th:only-of-type {\n",
       "        vertical-align: middle;\n",
       "    }\n",
       "\n",
       "    .dataframe tbody tr th {\n",
       "        vertical-align: top;\n",
       "    }\n",
       "\n",
       "    .dataframe thead th {\n",
       "        text-align: right;\n",
       "    }\n",
       "</style>\n",
       "<table border=\"1\" class=\"dataframe\">\n",
       "  <thead>\n",
       "    <tr style=\"text-align: right;\">\n",
       "      <th></th>\n",
       "      <th>Method</th>\n",
       "      <th>Control</th>\n",
       "      <th>Near_Control</th>\n",
       "      <th>Null_Model</th>\n",
       "      <th>Half_Control</th>\n",
       "      <th>Terrible</th>\n",
       "    </tr>\n",
       "  </thead>\n",
       "  <tbody>\n",
       "    <tr>\n",
       "      <th>0</th>\n",
       "      <td>RMSE</td>\n",
       "      <td>0.0</td>\n",
       "      <td>2.544622</td>\n",
       "      <td>27.619196</td>\n",
       "      <td>13.809598</td>\n",
       "      <td>44.516297</td>\n",
       "    </tr>\n",
       "    <tr>\n",
       "      <th>1</th>\n",
       "      <td>rrmse_range_normalization</td>\n",
       "      <td>0.0</td>\n",
       "      <td>0.030160</td>\n",
       "      <td>0.327352</td>\n",
       "      <td>0.163676</td>\n",
       "      <td>0.527623</td>\n",
       "    </tr>\n",
       "    <tr>\n",
       "      <th>2</th>\n",
       "      <td>rrmse_mean_normalization</td>\n",
       "      <td>0.0</td>\n",
       "      <td>0.062391</td>\n",
       "      <td>0.677188</td>\n",
       "      <td>0.338594</td>\n",
       "      <td>1.091484</td>\n",
       "    </tr>\n",
       "    <tr>\n",
       "      <th>3</th>\n",
       "      <td>rrmse_stdev_normalization</td>\n",
       "      <td>0.0</td>\n",
       "      <td>0.092132</td>\n",
       "      <td>1.000000</td>\n",
       "      <td>0.500000</td>\n",
       "      <td>1.611788</td>\n",
       "    </tr>\n",
       "    <tr>\n",
       "      <th>4</th>\n",
       "      <td>rrmse_mean_x_n_normalization</td>\n",
       "      <td>0.0</td>\n",
       "      <td>0.006239</td>\n",
       "      <td>0.067719</td>\n",
       "      <td>0.033859</td>\n",
       "      <td>0.109148</td>\n",
       "    </tr>\n",
       "    <tr>\n",
       "      <th>5</th>\n",
       "      <td>rrmse_max_normalization</td>\n",
       "      <td>0.0</td>\n",
       "      <td>0.025664</td>\n",
       "      <td>0.278554</td>\n",
       "      <td>0.139277</td>\n",
       "      <td>0.448970</td>\n",
       "    </tr>\n",
       "    <tr>\n",
       "      <th>6</th>\n",
       "      <td>rrmse_interquartile_normalization</td>\n",
       "      <td>0.0</td>\n",
       "      <td>0.059444</td>\n",
       "      <td>0.645197</td>\n",
       "      <td>0.322598</td>\n",
       "      <td>1.039921</td>\n",
       "    </tr>\n",
       "    <tr>\n",
       "      <th>7</th>\n",
       "      <td>rrmse_sum_normalization (RRMSE)</td>\n",
       "      <td>0.0</td>\n",
       "      <td>0.006239</td>\n",
       "      <td>0.067719</td>\n",
       "      <td>0.033859</td>\n",
       "      <td>0.109148</td>\n",
       "    </tr>\n",
       "    <tr>\n",
       "      <th>8</th>\n",
       "      <td>RMSRE (Root Mean Squared Relative Error)</td>\n",
       "      <td>0.0</td>\n",
       "      <td>0.105269</td>\n",
       "      <td>0.926761</td>\n",
       "      <td>0.463381</td>\n",
       "      <td>0.774088</td>\n",
       "    </tr>\n",
       "    <tr>\n",
       "      <th>9</th>\n",
       "      <td>rrmse_null_model</td>\n",
       "      <td>0.0</td>\n",
       "      <td>0.092132</td>\n",
       "      <td>1.000000</td>\n",
       "      <td>0.500000</td>\n",
       "      <td>1.611788</td>\n",
       "    </tr>\n",
       "  </tbody>\n",
       "</table>\n",
       "</div>"
      ],
      "text/plain": [
       "                                     Method  Control  Near_Control  \\\n",
       "0                                      RMSE      0.0      2.544622   \n",
       "1                 rrmse_range_normalization      0.0      0.030160   \n",
       "2                  rrmse_mean_normalization      0.0      0.062391   \n",
       "3                 rrmse_stdev_normalization      0.0      0.092132   \n",
       "4              rrmse_mean_x_n_normalization      0.0      0.006239   \n",
       "5                   rrmse_max_normalization      0.0      0.025664   \n",
       "6         rrmse_interquartile_normalization      0.0      0.059444   \n",
       "7           rrmse_sum_normalization (RRMSE)      0.0      0.006239   \n",
       "8  RMSRE (Root Mean Squared Relative Error)      0.0      0.105269   \n",
       "9                          rrmse_null_model      0.0      0.092132   \n",
       "\n",
       "   Null_Model  Half_Control   Terrible  \n",
       "0   27.619196     13.809598  44.516297  \n",
       "1    0.327352      0.163676   0.527623  \n",
       "2    0.677188      0.338594   1.091484  \n",
       "3    1.000000      0.500000   1.611788  \n",
       "4    0.067719      0.033859   0.109148  \n",
       "5    0.278554      0.139277   0.448970  \n",
       "6    0.645197      0.322598   1.039921  \n",
       "7    0.067719      0.033859   0.109148  \n",
       "8    0.926761      0.463381   0.774088  \n",
       "9    1.000000      0.500000   1.611788  "
      ]
     },
     "execution_count": 31,
     "metadata": {},
     "output_type": "execute_result"
    }
   ],
   "source": [
    "results_df = pd.DataFrame(['RMSE',\n",
    "                           'rrmse_range_normalization',\n",
    "                           'rrmse_mean_normalization',\n",
    "                           'rrmse_stdev_normalization',\n",
    "                           'rrmse_mean_x_n_normalization',\n",
    "                           'rrmse_max_normalization',\n",
    "                           'rrmse_interquartile_normalization',\n",
    "                           'rrmse_sum_normalization (RRMSE)',\n",
    "                           'RMSRE (Root Mean Squared Relative Error)',\n",
    "                           'rrmse_null_model'],columns=['Method'])\n",
    "\n",
    "for col in df.columns:\n",
    "    results_df[col] = [\n",
    "        rmse(df['Control'],df[col]),\n",
    "        rrmse_range_normalization(df['Control'],df[col]),\n",
    "        rrmse_mean_normalization(df['Control'],df[col]),\n",
    "        rrmse_stdev_normalization(df['Control'],df[col]),\n",
    "        rrmse_mean_x_n_normalization(df['Control'],df[col]),\n",
    "        rrmse_max_normalization(df['Control'],df[col]),\n",
    "        rrmse_interquartile_normalization(df['Control'],df[col]),\n",
    "        rrmse(df['Control'],df[col]),\n",
    "        rmsre(df['Control'],df[col]),\n",
    "        rrmse_null_model(df['Control'],df[col])\n",
    "    ]\n",
    "\n",
    "results_df"
   ]
  },
  {
   "cell_type": "code",
   "execution_count": 32,
   "metadata": {},
   "outputs": [
    {
     "data": {
      "text/html": [
       "<div>\n",
       "<style scoped>\n",
       "    .dataframe tbody tr th:only-of-type {\n",
       "        vertical-align: middle;\n",
       "    }\n",
       "\n",
       "    .dataframe tbody tr th {\n",
       "        vertical-align: top;\n",
       "    }\n",
       "\n",
       "    .dataframe thead th {\n",
       "        text-align: right;\n",
       "    }\n",
       "</style>\n",
       "<table border=\"1\" class=\"dataframe\">\n",
       "  <thead>\n",
       "    <tr style=\"text-align: right;\">\n",
       "      <th></th>\n",
       "      <th>0</th>\n",
       "      <th>1</th>\n",
       "      <th>2</th>\n",
       "      <th>3</th>\n",
       "      <th>4</th>\n",
       "      <th>5</th>\n",
       "      <th>6</th>\n",
       "      <th>7</th>\n",
       "      <th>8</th>\n",
       "      <th>9</th>\n",
       "    </tr>\n",
       "  </thead>\n",
       "  <tbody>\n",
       "    <tr>\n",
       "      <th>Control</th>\n",
       "      <td>0.000000</td>\n",
       "      <td>0.000000</td>\n",
       "      <td>0.000000</td>\n",
       "      <td>0.000000</td>\n",
       "      <td>0.000000</td>\n",
       "      <td>0.000000</td>\n",
       "      <td>0.000000</td>\n",
       "      <td>0.000000</td>\n",
       "      <td>0.000000</td>\n",
       "      <td>0.000000</td>\n",
       "    </tr>\n",
       "    <tr>\n",
       "      <th>Near_Control</th>\n",
       "      <td>2.544622</td>\n",
       "      <td>0.030160</td>\n",
       "      <td>0.062391</td>\n",
       "      <td>0.092132</td>\n",
       "      <td>0.006239</td>\n",
       "      <td>0.025664</td>\n",
       "      <td>0.059444</td>\n",
       "      <td>0.006239</td>\n",
       "      <td>0.105269</td>\n",
       "      <td>0.092132</td>\n",
       "    </tr>\n",
       "    <tr>\n",
       "      <th>Null_Model</th>\n",
       "      <td>27.619196</td>\n",
       "      <td>0.327352</td>\n",
       "      <td>0.677188</td>\n",
       "      <td>1.000000</td>\n",
       "      <td>0.067719</td>\n",
       "      <td>0.278554</td>\n",
       "      <td>0.645197</td>\n",
       "      <td>0.067719</td>\n",
       "      <td>0.926761</td>\n",
       "      <td>1.000000</td>\n",
       "    </tr>\n",
       "    <tr>\n",
       "      <th>Half_Control</th>\n",
       "      <td>13.809598</td>\n",
       "      <td>0.163676</td>\n",
       "      <td>0.338594</td>\n",
       "      <td>0.500000</td>\n",
       "      <td>0.033859</td>\n",
       "      <td>0.139277</td>\n",
       "      <td>0.322598</td>\n",
       "      <td>0.033859</td>\n",
       "      <td>0.463381</td>\n",
       "      <td>0.500000</td>\n",
       "    </tr>\n",
       "    <tr>\n",
       "      <th>Terrible</th>\n",
       "      <td>44.516297</td>\n",
       "      <td>0.527623</td>\n",
       "      <td>1.091484</td>\n",
       "      <td>1.611788</td>\n",
       "      <td>0.109148</td>\n",
       "      <td>0.448970</td>\n",
       "      <td>1.039921</td>\n",
       "      <td>0.109148</td>\n",
       "      <td>0.774088</td>\n",
       "      <td>1.611788</td>\n",
       "    </tr>\n",
       "  </tbody>\n",
       "</table>\n",
       "</div>"
      ],
      "text/plain": [
       "                      0         1         2         3         4         5  \\\n",
       "Control        0.000000  0.000000  0.000000  0.000000  0.000000  0.000000   \n",
       "Near_Control   2.544622  0.030160  0.062391  0.092132  0.006239  0.025664   \n",
       "Null_Model    27.619196  0.327352  0.677188  1.000000  0.067719  0.278554   \n",
       "Half_Control  13.809598  0.163676  0.338594  0.500000  0.033859  0.139277   \n",
       "Terrible      44.516297  0.527623  1.091484  1.611788  0.109148  0.448970   \n",
       "\n",
       "                     6         7         8         9  \n",
       "Control       0.000000  0.000000  0.000000  0.000000  \n",
       "Near_Control  0.059444  0.006239  0.105269  0.092132  \n",
       "Null_Model    0.645197  0.067719  0.926761  1.000000  \n",
       "Half_Control  0.322598  0.033859  0.463381  0.500000  \n",
       "Terrible      1.039921  0.109148  0.774088  1.611788  "
      ]
     },
     "execution_count": 32,
     "metadata": {},
     "output_type": "execute_result"
    }
   ],
   "source": [
    "import seaborn as sns\n",
    "import matplotlib.pyplot as plt\n",
    "r = results_df.drop(columns='Method')\n",
    "results_t = r.T\n",
    "results_t\n"
   ]
  },
  {
   "cell_type": "code",
   "execution_count": 33,
   "metadata": {},
   "outputs": [
    {
     "name": "stderr",
     "output_type": "stream",
     "text": [
      "/opt/anaconda3/lib/python3.11/site-packages/seaborn/categorical.py:486: FutureWarning: Series.__getitem__ treating keys as positions is deprecated. In a future version, integer keys will always be treated as labels (consistent with DataFrame behavior). To access a value by position, use `ser.iloc[pos]`\n",
      "  if np.isscalar(data[0]):\n"
     ]
    },
    {
     "data": {
      "image/png": "[encoded data removed]",
      "text/plain": [
       "<Figure size 640x480 with 1 Axes>"
      ]
     },
     "metadata": {},
     "output_type": "display_data"
    },
    {
     "name": "stderr",
     "output_type": "stream",
     "text": [
      "/opt/anaconda3/lib/python3.11/site-packages/seaborn/categorical.py:486: FutureWarning: Series.__getitem__ treating keys as positions is deprecated. In a future version, integer keys will always be treated as labels (consistent with DataFrame behavior). To access a value by position, use `ser.iloc[pos]`\n",
      "  if np.isscalar(data[0]):\n"
     ]
    },
    {
     "data": {
      "image/png": "[encoded data removed]",
      "text/plain": [
       "<Figure size 640x480 with 1 Axes>"
      ]
     },
     "metadata": {},
     "output_type": "display_data"
    },
    {
     "name": "stderr",
     "output_type": "stream",
     "text": [
      "/opt/anaconda3/lib/python3.11/site-packages/seaborn/categorical.py:486: FutureWarning: Series.__getitem__ treating keys as positions is deprecated. In a future version, integer keys will always be treated as labels (consistent with DataFrame behavior). To access a value by position, use `ser.iloc[pos]`\n",
      "  if np.isscalar(data[0]):\n"
     ]
    },
    {
     "data": {
      "image/png": "[encoded data removed]",
      "text/plain": [
       "<Figure size 640x480 with 1 Axes>"
      ]
     },
     "metadata": {},
     "output_type": "display_data"
    },
    {
     "name": "stderr",
     "output_type": "stream",
     "text": [
      "/opt/anaconda3/lib/python3.11/site-packages/seaborn/categorical.py:486: FutureWarning: Series.__getitem__ treating keys as positions is deprecated. In a future version, integer keys will always be treated as labels (consistent with DataFrame behavior). To access a value by position, use `ser.iloc[pos]`\n",
      "  if np.isscalar(data[0]):\n"
     ]
    },
    {
     "data": {
      "image/png": "[encoded data removed]",
      "text/plain": [
       "<Figure size 640x480 with 1 Axes>"
      ]
     },
     "metadata": {},
     "output_type": "display_data"
    },
    {
     "name": "stderr",
     "output_type": "stream",
     "text": [
      "/opt/anaconda3/lib/python3.11/site-packages/seaborn/categorical.py:486: FutureWarning: Series.__getitem__ treating keys as positions is deprecated. In a future version, integer keys will always be treated as labels (consistent with DataFrame behavior). To access a value by position, use `ser.iloc[pos]`\n",
      "  if np.isscalar(data[0]):\n"
     ]
    },
    {
     "data": {
      "image/png": "[encoded data removed]",
      "text/plain": [
       "<Figure size 640x480 with 1 Axes>"
      ]
     },
     "metadata": {},
     "output_type": "display_data"
    },
    {
     "name": "stderr",
     "output_type": "stream",
     "text": [
      "/opt/anaconda3/lib/python3.11/site-packages/seaborn/categorical.py:486: FutureWarning: Series.__getitem__ treating keys as positions is deprecated. In a future version, integer keys will always be treated as labels (consistent with DataFrame behavior). To access a value by position, use `ser.iloc[pos]`\n",
      "  if np.isscalar(data[0]):\n"
     ]
    },
    {
     "data": {
      "image/png": "[encoded data removed]",
      "text/plain": [
       "<Figure size 640x480 with 1 Axes>"
      ]
     },
     "metadata": {},
     "output_type": "display_data"
    },
    {
     "name": "stderr",
     "output_type": "stream",
     "text": [
      "/opt/anaconda3/lib/python3.11/site-packages/seaborn/categorical.py:486: FutureWarning: Series.__getitem__ treating keys as positions is deprecated. In a future version, integer keys will always be treated as labels (consistent with DataFrame behavior). To access a value by position, use `ser.iloc[pos]`\n",
      "  if np.isscalar(data[0]):\n"
     ]
    },
    {
     "data": {
      "image/png": "[encoded data removed]",
      "text/plain": [
       "<Figure size 640x480 with 1 Axes>"
      ]
     },
     "metadata": {},
     "output_type": "display_data"
    },
    {
     "name": "stderr",
     "output_type": "stream",
     "text": [
      "/opt/anaconda3/lib/python3.11/site-packages/seaborn/categorical.py:486: FutureWarning: Series.__getitem__ treating keys as positions is deprecated. In a future version, integer keys will always be treated as labels (consistent with DataFrame behavior). To access a value by position, use `ser.iloc[pos]`\n",
      "  if np.isscalar(data[0]):\n"
     ]
    },
    {
     "data": {
      "image/png": "[encoded data removed]",
      "text/plain": [
       "<Figure size 640x480 with 1 Axes>"
      ]
     },
     "metadata": {},
     "output_type": "display_data"
    },
    {
     "name": "stderr",
     "output_type": "stream",
     "text": [
      "/opt/anaconda3/lib/python3.11/site-packages/seaborn/categorical.py:486: FutureWarning: Series.__getitem__ treating keys as positions is deprecated. In a future version, integer keys will always be treated as labels (consistent with DataFrame behavior). To access a value by position, use `ser.iloc[pos]`\n",
      "  if np.isscalar(data[0]):\n"
     ]
    },
    {
     "data": {
      "image/png": "[encoded data removed]",
      "text/plain": [
       "<Figure size 640x480 with 1 Axes>"
      ]
     },
     "metadata": {},
     "output_type": "display_data"
    },
    {
     "name": "stderr",
     "output_type": "stream",
     "text": [
      "/opt/anaconda3/lib/python3.11/site-packages/seaborn/categorical.py:486: FutureWarning: Series.__getitem__ treating keys as positions is deprecated. In a future version, integer keys will always be treated as labels (consistent with DataFrame behavior). To access a value by position, use `ser.iloc[pos]`\n",
      "  if np.isscalar(data[0]):\n"
     ]
    },
    {
     "data": {
      "image/png": "[encoded data removed]",
      "text/plain": [
       "<Figure size 640x480 with 1 Axes>"
      ]
     },
     "metadata": {},
     "output_type": "display_data"
    }
   ],
   "source": [
    "for i in range(10):\n",
    "    sns.boxplot(data=results_t[i])\n",
    "    plt.show()"
   ]
  },
  {
   "cell_type": "code",
   "execution_count": null,
   "metadata": {},
   "outputs": [],
   "source": []
  }
 ],
 "metadata": {
  "kernelspec": {
   "display_name": "base",
   "language": "python",
   "name": "python3"
  },
  "language_info": {
   "codemirror_mode": {
    "name": "ipython",
    "version": 3
   },
   "file_extension": ".py",
   "mimetype": "text/x-python",
   "name": "python",
   "nbconvert_exporter": "python",
   "pygments_lexer": "ipython3",
   "version": "3.11.8"
  }
 },
 "nbformat": 4,
 "nbformat_minor": 2
}
